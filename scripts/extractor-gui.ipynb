{
 "metadata": {
  "language_info": {
   "codemirror_mode": {
    "name": "ipython",
    "version": 3
   },
   "file_extension": ".py",
   "mimetype": "text/x-python",
   "name": "python",
   "nbconvert_exporter": "python",
   "pygments_lexer": "ipython3",
   "version": 3
  },
  "orig_nbformat": 2,
  "kernelspec": {
   "name": "python_defaultSpec_1596328697734",
   "display_name": "Python 3.8.3 64-bit"
  }
 },
 "nbformat": 4,
 "nbformat_minor": 2,
 "cells": [
  {
   "cell_type": "code",
   "execution_count": 4,
   "metadata": {},
   "outputs": [],
   "source": [
    "try: # checking if the modules are installed\n",
    "    from pytube import *    \n",
    "    from tkinter import  *\n",
    "    import os \n",
    "    \n",
    "except Exception as e: # printing a message if there is an issue with the packages!\n",
    "    print('Modules are Missing! \\n\\n {}'.format(e))"
   ]
  },
  {
   "cell_type": "code",
   "execution_count": 5,
   "metadata": {
    "tags": []
   },
   "outputs": [],
   "source": [
    "# making the canvas\n",
    "app = Tk()\n",
    "app.geometry('600x200')\n",
    "# making the title\n",
    "app.title('Youtube Video Downloader')\n",
    "\n",
    "# making labels\n",
    "label_1 = Label(app,text=\"Enter YouTube Link!\", font=(\"bold\",20))\n",
    "label_1.place(x=180,y=20)\n",
    "\n",
    "label_2 = Label(app, text=\"Developed By Abdulrazak Osman\", width=80, font=(\"bold\",9))\n",
    "label_2.place(x=20,y=160)\n",
    "\n",
    "# link declaration!\n",
    "myLink = StringVar()\n",
    "\n",
    "# making the link entry bar!\n",
    "link_bar = Entry(app, width=60, textvariable=myLink)\n",
    "link_bar.place(x=120, y=80)\n",
    "\n",
    "# main functions!\n",
    "def downloadVideo():\n",
    "    link = str(myLink.get())\n",
    "    video = YouTube(link).streams.filter(progressive=True, file_extension='mp4').order_by('resolution').desc().first()\n",
    "\n",
    "    # checking if the folder is exists or make one!\n",
    "    if not os.path.exists('./videos/'):\n",
    "        os.makedirs('./videos/')\n",
    "    video.download('./videos/')\n",
    "\n",
    "# making the submiting button\n",
    "Button(app,text=\"Download\", width=20, bg='green',fg=\"white\", command=downloadVideo).place(x=220, y=110)\n",
    "\n",
    "# this will run the app!\n",
    "app.mainloop()"
   ]
  },
  {
   "cell_type": "code",
   "execution_count": 7,
   "metadata": {},
   "outputs": [],
   "source": []
  },
  {
   "cell_type": "code",
   "execution_count": 8,
   "metadata": {},
   "outputs": [],
   "source": []
  }
 ]
}